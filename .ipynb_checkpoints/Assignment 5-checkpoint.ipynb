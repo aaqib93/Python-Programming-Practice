{
 "cells": [
  {
   "cell_type": "markdown",
   "metadata": {},
   "source": [
    "# Assignment 5"
   ]
  },
  {
   "cell_type": "markdown",
   "metadata": {},
   "source": [
    "Q1. Write a Python function to calculate the factorial of a number (a non-negative integer). The function accepts the number as an argument. "
   ]
  },
  {
   "cell_type": "code",
   "execution_count": 1,
   "metadata": {},
   "outputs": [
    {
     "name": "stdout",
     "output_type": "stream",
     "text": [
      "Input a number to compute the factiorial : 4\n",
      "24\n"
     ]
    }
   ],
   "source": [
    "def factorial(n):\n",
    "    if n==0:\n",
    "        return 1\n",
    "    else:\n",
    "        return n*factorial(n-1)\n",
    "n=int(input(\"Input a number to compute the factiorial : \"))\n",
    "print(factorial(n))"
   ]
  },
  {
   "cell_type": "markdown",
   "metadata": {},
   "source": [
    "Q2. Write a Python function that accepts a string and calculate the number of upper case letters and lower case letters."
   ]
  },
  {
   "cell_type": "code",
   "execution_count": 2,
   "metadata": {},
   "outputs": [
    {
     "name": "stdout",
     "output_type": "stream",
     "text": [
      "Original String :  The tallest building of the world is Burj Khalifa\n",
      "No. of Upper case characters :  3\n",
      "No. of Lower case Characters :  38\n"
     ]
    }
   ],
   "source": [
    "def string_test(s):\n",
    "    d={\"UPPER_CASE\":0, \"LOWER_CASE\":0}\n",
    "    for c in s:\n",
    "        if c.isupper():\n",
    "            d[\"UPPER_CASE\"]+=1\n",
    "        elif c.islower():\n",
    "            d[\"LOWER_CASE\"]+=1\n",
    "        else:\n",
    "            pass\n",
    "    print (\"Original String : \", s)\n",
    "    print (\"No. of Upper case characters : \", d[\"UPPER_CASE\"])\n",
    "    print (\"No. of Lower case Characters : \", d[\"LOWER_CASE\"])\n",
    "\n",
    "string_test('The tallest building of the world is Burj Khalifa')"
   ]
  },
  {
   "cell_type": "markdown",
   "metadata": {},
   "source": [
    "Q3. Write a Python function to print the even numbers from a given list."
   ]
  },
  {
   "cell_type": "code",
   "execution_count": 3,
   "metadata": {},
   "outputs": [],
   "source": [
    "def even_numbers(list1):\n",
    "    \n",
    "    even_numbers=[]\n",
    "    other_numbers=[]\n",
    "    \n",
    "    for i in list1:\n",
    "        if i%2==0:\n",
    "            even_numbers.append(i)\n",
    "        else:\n",
    "            other_numbers.append(i)\n",
    "\n",
    "    print(\"------EVEN NUMBERS-------\")\n",
    "    print(even_numbers)\n",
    "    print(\"------OTHER NUMBERS------\")\n",
    "    print(other_numbers)\n"
   ]
  },
  {
   "cell_type": "code",
   "execution_count": 4,
   "metadata": {},
   "outputs": [
    {
     "name": "stdout",
     "output_type": "stream",
     "text": [
      "------EVEN NUMBERS-------\n",
      "[10, 16, 14, 44]\n",
      "------OTHER NUMBERS------\n",
      "[15, 77]\n"
     ]
    }
   ],
   "source": [
    "even_numbers([10,15,16,14,44,77])"
   ]
  },
  {
   "cell_type": "markdown",
   "metadata": {},
   "source": [
    "Q4. Write a Python function that checks whether a passed string is palindrome or not.\n",
    "Note: A palindrome is a word, phrase, or sequence that reads the same\n",
    "backward as forward, e.g., madam"
   ]
  },
  {
   "cell_type": "code",
   "execution_count": 5,
   "metadata": {},
   "outputs": [
    {
     "name": "stdout",
     "output_type": "stream",
     "text": [
      "True\n"
     ]
    }
   ],
   "source": [
    "def isPalindrome(string):\n",
    "    left_pos = 0\n",
    "    right_pos = len(string) - 1\n",
    "\n",
    "    while right_pos >= left_pos:\n",
    "        if not string[left_pos] == string[right_pos]:\n",
    "            return False\n",
    "        left_pos += 1\n",
    "        right_pos -= 1\n",
    "    return True\n",
    "print(isPalindrome('madam')) "
   ]
  },
  {
   "cell_type": "markdown",
   "metadata": {},
   "source": [
    "Q5.Write a Python function that takes a number as a parameter and check the\n",
    "number is prime or not."
   ]
  },
  {
   "cell_type": "code",
   "execution_count": 6,
   "metadata": {},
   "outputs": [
    {
     "name": "stdout",
     "output_type": "stream",
     "text": [
      "True\n"
     ]
    }
   ],
   "source": [
    "def test_prime(n):\n",
    "    if n==1:\n",
    "        return False\n",
    "    elif n==2:\n",
    "        return True;\n",
    "    else:\n",
    "        for x in range(2,n):\n",
    "            if n % x==0:\n",
    "                return False\n",
    "        return True             \n",
    "print(test_prime(31))"
   ]
  },
  {
   "cell_type": "markdown",
   "metadata": {},
   "source": [
    "Q6. Suppose a customer is shopping in a market and you need to print all the items\n",
    "which user bought from market.\n",
    "Write a function which accepts the multiple arguments of user shopping list and\n",
    "print all the items which user bought from market."
   ]
  },
  {
   "cell_type": "code",
   "execution_count": 9,
   "metadata": {},
   "outputs": [
    {
     "name": "stdout",
     "output_type": "stream",
     "text": [
      "\n",
      "========Shopping Basket Options ========\n",
      "\n",
      "1.Add items\n",
      "2.View items\n",
      "3.Delete items\n",
      "4.Exit\n",
      "\n",
      "select any option:1\n",
      "Enter the item:Banana\n",
      "Enter the quantity:5\n",
      "Item Successfully Added\n",
      "\n",
      "========Shopping Basket Options ========\n",
      "\n",
      "1.Add items\n",
      "2.View items\n",
      "3.Delete items\n",
      "4.Exit\n",
      "\n",
      "select any option:1\n",
      "Enter the item:Apple\n",
      "Enter the quantity:5\n",
      "Item Successfully Added\n",
      "\n",
      "========Shopping Basket Options ========\n",
      "\n",
      "1.Add items\n",
      "2.View items\n",
      "3.Delete items\n",
      "4.Exit\n",
      "\n",
      "select any option:2\n",
      "Items List\n",
      "Banana:5\n",
      "Apple:5\n",
      "\n",
      "========Shopping Basket Options ========\n",
      "\n",
      "1.Add items\n",
      "2.View items\n",
      "3.Delete items\n",
      "4.Exit\n",
      "\n",
      "select any option:3\n",
      "Enter the item name you want to delete:Apple\n",
      "successfully delete Apple\n",
      "\n",
      "========Shopping Basket Options ========\n",
      "\n",
      "1.Add items\n",
      "2.View items\n",
      "3.Delete items\n",
      "4.Exit\n",
      "\n",
      "select any option:2\n",
      "Items List\n",
      "Banana:5\n",
      "\n",
      "========Shopping Basket Options ========\n",
      "\n",
      "1.Add items\n",
      "2.View items\n",
      "3.Delete items\n",
      "4.Exit\n",
      "\n",
      "select any option:4\n"
     ]
    }
   ],
   "source": [
    "def add_items(items_list):\n",
    "    item_name=input(\"Enter the item:\")\n",
    "    item_quantity=int(input(\"Enter the quantity:\"))\n",
    "    items_list.update({item_name : item_quantity})\n",
    "    print(\"Item Successfully Added\")\n",
    "\n",
    "def view_items(items_list):\n",
    "    print(\"Items List\")\n",
    "    for item_name,item_quantity in items_list.items():\n",
    "        if item_name in items_list:\n",
    "            print(\"{}:{}\".format(item_name,item_quantity))\n",
    "        else:\n",
    "            print(\"no data found\")\n",
    "\n",
    "def delete_items(items_list):\n",
    "    del_item=input(\"Enter the item name you want to delete:\")\n",
    "    if del_item in items_list:\n",
    "        items_list.pop(del_item)\n",
    "        print(\"successfully delete {}\".format(del_item))\n",
    "    else:\n",
    "        print(\"no data found\")\n",
    "\n",
    "def isInteger(userInput):\n",
    "    try:\n",
    "        int(userInput)\n",
    "        return True\n",
    "    except ValueError:\n",
    "        return False\n",
    "\n",
    "def menu_item(menu):\n",
    "    print(\"\\n========Shopping Basket Options ========\\n\")\n",
    "    for menuIndex,menuName in menu.items():\n",
    "        print(\"{}.{}\".format(menuIndex,menuName))\n",
    "    userInput=int(input(\"\\nselect any option:\"))\n",
    "    return userInput\n",
    "\n",
    "menu={1:\"Add items\",\n",
    "     2:\"View items\",\n",
    "     3:\"Delete items\",\n",
    "     4:\"Exit\"}\n",
    "\n",
    "items_list={}\n",
    "\n",
    "while(True):\n",
    "    userInput=menu_item(menu)\n",
    "    if isInteger(userInput)== True:\n",
    "        userInput=int(userInput)\n",
    "        if userInput > 0 and userInput <= 4:\n",
    "            if userInput == 1:\n",
    "                add_items(items_list)\n",
    "            elif userInput==2:\n",
    "                view_items(items_list)\n",
    "            elif userInput==3:\n",
    "                delete_items(items_list)\n",
    "            elif userInput==4:\n",
    "                 break;\n",
    "            else:\n",
    "                print(\"you enter wrong choice\")\n",
    "        else:\n",
    "            print(\"value must be an integer\")\n",
    "    else:\n",
    "        print(\"invalid value , value must be integer\")"
   ]
  },
  {
   "cell_type": "code",
   "execution_count": null,
   "metadata": {},
   "outputs": [],
   "source": []
  },
  {
   "cell_type": "code",
   "execution_count": null,
   "metadata": {},
   "outputs": [],
   "source": []
  }
 ],
 "metadata": {
  "kernelspec": {
   "display_name": "Python 3",
   "language": "python",
   "name": "python3"
  },
  "language_info": {
   "codemirror_mode": {
    "name": "ipython",
    "version": 3
   },
   "file_extension": ".py",
   "mimetype": "text/x-python",
   "name": "python",
   "nbconvert_exporter": "python",
   "pygments_lexer": "ipython3",
   "version": "3.7.0"
  }
 },
 "nbformat": 4,
 "nbformat_minor": 2
}
