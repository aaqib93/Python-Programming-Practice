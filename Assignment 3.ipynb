{
 "cells": [
  {
   "cell_type": "code",
   "execution_count": 1,
   "metadata": {},
   "outputs": [],
   "source": [
    "#Q1 Calculator Program"
   ]
  },
  {
   "cell_type": "code",
   "execution_count": 3,
   "metadata": {},
   "outputs": [
    {
     "name": "stdout",
     "output_type": "stream",
     "text": [
      "Calculator\n",
      "For Addition Press 1 \n",
      " For Subtraction Press 2 \n",
      " For Multiplication Press 3 \n",
      " For division press 4 \n",
      " For Power press 5\n",
      "Enter the operation you want to perform 5\n",
      "Enter the first number 3\n",
      "Enter the second number 3\n",
      "The answer is:  27\n"
     ]
    }
   ],
   "source": [
    "print(\"Calculator\")\n",
    "print(\"For Addition Press 1 \\n For Subtraction Press 2 \\n For Multiplication Press 3 \\n For division press 4 \\n For Power press 5\")\n",
    "num = int(input(\"Enter the operation you want to perform\"+\" \"))\n",
    "num1=int(input(\"Enter the first number\"+\" \"))\n",
    "num2=int(input(\"Enter the second number\"+\" \"))\n",
    "if num==1:\n",
    "    num3=num1 + num2\n",
    "    print(\"The answer is:\"+\" \",num3)\n",
    "    \n",
    "if num==2:\n",
    "    num4=num1 - num2 \n",
    "    print(\"The answer is:\"+\" \",num4)\n",
    "\n",
    "if num==3:\n",
    "    num5=num1*num2\n",
    "    print(\"The answer is:\"+\" \",num5)\n",
    "\n",
    "\n",
    "if num==4:\n",
    "    num6=num1/num2\n",
    "    print(\"The answer is:\"+\" \",num6)\n",
    "\n",
    "if num==5:\n",
    "    num7=num1**num2\n",
    "    print(\"The answer is:\"+\" \",num7)\n",
    "\n",
    "else:\n",
    "    print(\"Invalid Operation\")\n"
   ]
  },
  {
   "cell_type": "code",
   "execution_count": null,
   "metadata": {},
   "outputs": [],
   "source": [
    "#Q2 Finding Numeric value in list"
   ]
  },
  {
   "cell_type": "code",
   "execution_count": 4,
   "metadata": {},
   "outputs": [
    {
     "name": "stdout",
     "output_type": "stream",
     "text": [
      "12\n"
     ]
    }
   ],
   "source": [
    "l1=[\"karachi\",\"12\",\"Quetta\",\"sindh\"]\n",
    "for i in l1:\n",
    "    if str.isdigit(i):\n",
    "        print(i)\n"
   ]
  },
  {
   "cell_type": "code",
   "execution_count": 5,
   "metadata": {},
   "outputs": [],
   "source": [
    "#Q3 Add key to dictionary"
   ]
  },
  {
   "cell_type": "code",
   "execution_count": 19,
   "metadata": {},
   "outputs": [
    {
     "name": "stdout",
     "output_type": "stream",
     "text": [
      "{0: 10, 1: 20}\n",
      "{0: 10, 1: 20, 2: 30}\n"
     ]
    }
   ],
   "source": [
    "d = {0:10, 1:20}  \n",
    "print(d)  \n",
    "d.update({2:30})  \n",
    "print(d) \n"
   ]
  },
  {
   "cell_type": "code",
   "execution_count": 21,
   "metadata": {},
   "outputs": [],
   "source": [
    "#Q4 Sum of values in a dictionary"
   ]
  },
  {
   "cell_type": "code",
   "execution_count": 22,
   "metadata": {},
   "outputs": [
    {
     "name": "stdout",
     "output_type": "stream",
     "text": [
      "Sum: 500\n"
     ]
    }
   ],
   "source": [
    "def returnSum(d1):\n",
    "    sum = 0\n",
    "    for i in dict.values():\n",
    "        sum = sum + i   \n",
    "    return sum\n",
    "d1={'a':200, 'b':300}\n",
    "print(\"Sum:\",returnSum(d1))"
   ]
  },
  {
   "cell_type": "code",
   "execution_count": 23,
   "metadata": {},
   "outputs": [],
   "source": [
    "#Q5 Removing duplicate values from dictionary"
   ]
  },
  {
   "cell_type": "code",
   "execution_count": 24,
   "metadata": {},
   "outputs": [
    {
     "name": "stdout",
     "output_type": "stream",
     "text": [
      "[2, 4, 10, 20, 5]\n"
     ]
    }
   ],
   "source": [
    "def Remove(duplicate):\n",
    "    final_list = []\n",
    "    for num in duplicate:\n",
    "        if num not in final_list:\n",
    "            final_list.append(num)\n",
    "    return final_list\n",
    "      \n",
    "# Driver Code\n",
    "duplicate = [2, 4, 10, 20, 5, 2, 20, 4]\n",
    "print(Remove(duplicate))\n"
   ]
  },
  {
   "cell_type": "code",
   "execution_count": 25,
   "metadata": {},
   "outputs": [],
   "source": [
    "#Q6 Program to check whether key is present or not"
   ]
  },
  {
   "cell_type": "code",
   "execution_count": 27,
   "metadata": {},
   "outputs": [
    {
     "name": "stdout",
     "output_type": "stream",
     "text": [
      "Key is present in the dictionary\n",
      "Key is not present in the dictionary\n"
     ]
    }
   ],
   "source": [
    "d2 = {1: 10, 2: 20, 3: 30, 4: 40, 5: 50, 6: 60}\n",
    "def is_key_present(x):\n",
    "    if x in d2:\n",
    "        print('Key is present in the dictionary')\n",
    "    else:\n",
    "        print('Key is not present in the dictionary')\n",
    "is_key_present(5)\n",
    "is_key_present(9)"
   ]
  },
  {
   "cell_type": "code",
   "execution_count": null,
   "metadata": {},
   "outputs": [],
   "source": []
  }
 ],
 "metadata": {
  "kernelspec": {
   "display_name": "Python 3",
   "language": "python",
   "name": "python3"
  },
  "language_info": {
   "codemirror_mode": {
    "name": "ipython",
    "version": 3
   },
   "file_extension": ".py",
   "mimetype": "text/x-python",
   "name": "python",
   "nbconvert_exporter": "python",
   "pygments_lexer": "ipython3",
   "version": "3.7.0"
  }
 },
 "nbformat": 4,
 "nbformat_minor": 2
}
