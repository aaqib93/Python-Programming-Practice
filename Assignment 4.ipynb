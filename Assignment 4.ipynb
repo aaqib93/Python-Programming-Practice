{
 "cells": [
  {
   "cell_type": "markdown",
   "metadata": {},
   "source": [
    "# Assignment 4\n"
   ]
  },
  {
   "cell_type": "markdown",
   "metadata": {},
   "source": [
    "Q1. Use a dictionary to store information about a person you know. Store their first name, last name, age,\n",
    "and the city in which they live. You should have keys such as first_name, last_name, age, and city. Print\n",
    "each piece of information stored in your dictionary. Add a new key value pair about qualification then\n",
    "update the qualification value to high academic level then delete it."
   ]
  },
  {
   "cell_type": "code",
   "execution_count": 2,
   "metadata": {},
   "outputs": [
    {
     "name": "stdout",
     "output_type": "stream",
     "text": [
      "Asjad\n",
      "Ishrat\n",
      "karachi\n",
      "{'first_name': 'Asjad', 'last_name': 'Ishrat', 'city': 'karachi', 'qualification': 'BS'}\n",
      "{'first_name': 'Asjad', 'last_name': 'Ishrat', 'city': 'karachi', 'qualification': 'High Academic Level'}\n",
      "{'first_name': 'Asjad', 'last_name': 'Ishrat', 'city': 'karachi'}\n"
     ]
    }
   ],
   "source": [
    "friend={\"first_name\":\"Asjad\",\"last_name\":\"Ishrat\",\"city\":\"karachi\"}\n",
    "print(friend[\"first_name\"])\n",
    "print(friend[\"last_name\"])\n",
    "print(friend[\"city\"])\n",
    "friend.update({\"qualification\":\"BS\"})\n",
    "print(friend)\n",
    "friend.update(qualification = 'High Academic Level')\n",
    "print(friend)\n",
    "del friend[\"qualification\"]\n",
    "print(friend)"
   ]
  },
  {
   "cell_type": "markdown",
   "metadata": {},
   "source": [
    "Q2. Make a dictionary called cities. Use the names of three cities as keys in your dictionary. Create a dictionary of information about each city and include the country that the city is in, its approximate population, and one fact about that city. The keys for each city’s dictionary should be something like country, population, and fact. Print the name of each city and all of the information you have stored about it."
   ]
  },
  {
   "cell_type": "code",
   "execution_count": 1,
   "metadata": {},
   "outputs": [
    {
     "name": "stdout",
     "output_type": "stream",
     "text": [
      "Information related to Karachi, Virginia, Dubai\n",
      "\n",
      "Karachi:\n",
      "Pakistan\n",
      "1M\n",
      "Heavily populated\n",
      "\n",
      "Virginia:\n",
      "US\n",
      "365K\n",
      "Lot of greenery\n",
      "\n",
      "Dubai:\n",
      "UAE\n",
      "300k\n",
      "Burj Khalifa World's tallest building\n"
     ]
    }
   ],
   "source": [
    "cities={\"Karachi\":{\"country\":\"Pakistan\", \"population\":\"1M\", \"fact\":\"Heavily populated\"},\"Virginia\":{\"country\":\"US\",\"population\":\"365K\",\"fact\":\"Lot of greenery\"},\"Dubai\":{\"country\":\"UAE\",\"population\":\"300k\",\"fact\":\"Burj Khalifa World's tallest building\"}}\n",
    "print(\"Information related to Karachi, Virginia, Dubai\\n\")\n",
    "print(\"Karachi:\")\n",
    "print(cities[\"Karachi\"][\"country\"])\n",
    "print(cities[\"Karachi\"][\"population\"])\n",
    "print(cities[\"Karachi\"][\"fact\"])\n",
    "print(\"\\nVirginia:\")\n",
    "print(cities[\"Virginia\"][\"country\"])\n",
    "print(cities[\"Virginia\"][\"population\"])\n",
    "print(cities[\"Virginia\"][\"fact\"])\n",
    "print(\"\\nDubai:\")\n",
    "print(cities[\"Dubai\"][\"country\"])\n",
    "print(cities[\"Dubai\"][\"population\"])\n",
    "print(cities[\"Dubai\"][\"fact\"])\n"
   ]
  },
  {
   "cell_type": "markdown",
   "metadata": {},
   "source": [
    "Q3. A movie theater charges different ticket prices depending on a person’s age. If a person is under the age of 3, the ticket is free; if they are between 3 and 12, the ticket is $10; and if they are over age 12, the ticket is $15. Write a loop in which you ask users their age, and then tell them the cost of their movie ticket."
   ]
  },
  {
   "cell_type": "code",
   "execution_count": 13,
   "metadata": {},
   "outputs": [
    {
     "name": "stdout",
     "output_type": "stream",
     "text": [
      "How many members: 2\n",
      "Enter Age 5\n",
      "Enter Age 13\n",
      "For 5 years ticket price is $10\n",
      "For 13 years ticket price is $15 \n"
     ]
    }
   ],
   "source": [
    "family_members = []\n",
    "num = int(input('How many members: '))\n",
    "for n in range(num):\n",
    "    age = int(input('Enter Age '))\n",
    "    family_members.append(age)\n",
    "for i in family_members:\n",
    "    \n",
    "    if i<3:\n",
    "        print(\"For\",i,\"years ticket is free\")\n",
    "    elif i>=3 and i<=12:\n",
    "        print(\"For\",i,\"years ticket price is $10\")\n",
    "    elif i>12:\n",
    "        print(\"For\",i,\"years ticket price is $15 \")\n",
    "    \n",
    "    \n",
    "\n"
   ]
  },
  {
   "cell_type": "markdown",
   "metadata": {},
   "source": [
    "Q4. Write a function called favorite_book() that accepts one parameter, title. The function should print a message, such as One of my favorite books is Alice in Wonderland. Call the function, making sure to include a book title as an argument in the function call."
   ]
  },
  {
   "cell_type": "code",
   "execution_count": 14,
   "metadata": {},
   "outputs": [
    {
     "name": "stdout",
     "output_type": "stream",
     "text": [
      "One of my favourite book is  Alice in Wonderland\n"
     ]
    }
   ],
   "source": [
    "def fav_book(title):\n",
    "    print(\"One of my favourite book is\"+\" \", title)\n",
    "    \n",
    "fav_book(\"Alice in Wonderland\")\n"
   ]
  },
  {
   "cell_type": "markdown",
   "metadata": {},
   "source": [
    "Q5. Guess the number game\n",
    "Write a program which randomly generate a number between 1 to 30 and ask the user in input field to guess the correct number. Give three chances to user guess the number and also give hint to user if hidden number is greater or smaller than the number he given to input field.\n"
   ]
  },
  {
   "cell_type": "code",
   "execution_count": 18,
   "metadata": {},
   "outputs": [
    {
     "name": "stdout",
     "output_type": "stream",
     "text": [
      "Hello! What is your name?\n",
      "Aaqib\n",
      "Well, Aaqib, I am thinking of a number between 1 and 30.\n",
      "Take a guess.\n",
      "7\n",
      "Your guess is too low.\n",
      "Take a guess.\n",
      "6\n",
      "Your guess is too low.\n",
      "Take a guess.\n",
      "8\n",
      "Your guess is too low.\n",
      "Nope. The number I was thinking of was  17\n"
     ]
    }
   ],
   "source": [
    "import random\n",
    "guessesTaken = 0\n",
    "print('Hello! What is your name?')\n",
    "myName = input()\n",
    "number = random.randint(1, 30)\n",
    "print('Well, ' + myName + ', I am thinking of a number between 1 and 30.')\n",
    "while guessesTaken < 3:\n",
    "    print('Take a guess.')\n",
    "    guess = input()\n",
    "    guess = int(guess)\n",
    "    guessesTaken = guessesTaken + 1\n",
    "    if guess < number:\n",
    "        print('Your guess is too low.')\n",
    "    if guess > number:\n",
    "        print('Your guess is too high.')\n",
    "    if guess == number:\n",
    "        break\n",
    "    if guess == number:\n",
    "        guessesTaken = str(guessesTaken)\n",
    "        print('Good job, ' + myName + '! You guessed my number in ' + guessesTaken + ' guesses!')\n",
    "if guess != number:\n",
    "    print('Nope. The number I was thinking of was ',number)\n"
   ]
  },
  {
   "cell_type": "code",
   "execution_count": null,
   "metadata": {},
   "outputs": [],
   "source": []
  }
 ],
 "metadata": {
  "kernelspec": {
   "display_name": "Python 3",
   "language": "python",
   "name": "python3"
  },
  "language_info": {
   "codemirror_mode": {
    "name": "ipython",
    "version": 3
   },
   "file_extension": ".py",
   "mimetype": "text/x-python",
   "name": "python",
   "nbconvert_exporter": "python",
   "pygments_lexer": "ipython3",
   "version": "3.7.0"
  }
 },
 "nbformat": 4,
 "nbformat_minor": 2
}
